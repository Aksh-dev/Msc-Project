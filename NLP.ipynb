{
  "nbformat": 4,
  "nbformat_minor": 0,
  "metadata": {
    "colab": {
      "name": "NLP.ipynb",
      "provenance": []
    },
    "kernelspec": {
      "name": "python3",
      "display_name": "Python 3"
    }
  },
  "cells": [
    {
      "cell_type": "markdown",
      "metadata": {
        "id": "d7ZPgZpXpewP"
      },
      "source": [
        "# TOPIC MODELLING"
      ]
    },
    {
      "cell_type": "code",
      "metadata": {
        "id": "hRzDvmA8pOKV",
        "outputId": "e9806fa9-5271-4078-8306-b822b9b7b078",
        "colab": {
          "base_uri": "https://localhost:8080/",
          "height": 118
        }
      },
      "source": [
        "import pandas as pd\n",
        "dataset_path = 'results-survey173122.csv'\n",
        "data = pd.read_csv(dataset_path,encoding = \"ISO-8859-1\")\n",
        "\n",
        "data_text = data[['Group_1','Group_2','Group_3','Group_4']]\n",
        "data_text['index'] = data_text.index\n",
        "documents = data_text"
      ],
      "execution_count": null,
      "outputs": [
        {
          "output_type": "stream",
          "text": [
            "/usr/local/lib/python3.6/dist-packages/ipykernel_launcher.py:6: SettingWithCopyWarning: \n",
            "A value is trying to be set on a copy of a slice from a DataFrame.\n",
            "Try using .loc[row_indexer,col_indexer] = value instead\n",
            "\n",
            "See the caveats in the documentation: https://pandas.pydata.org/pandas-docs/stable/user_guide/indexing.html#returning-a-view-versus-a-copy\n",
            "  \n"
          ],
          "name": "stderr"
        }
      ]
    },
    {
      "cell_type": "code",
      "metadata": {
        "id": "rnzVk8ASrkDH",
        "outputId": "a376e476-6c82-43c8-f313-a60cb20ca9da",
        "colab": {
          "base_uri": "https://localhost:8080/",
          "height": 168
        }
      },
      "source": [
        "print(len(documents))\n",
        "print(documents[:5])"
      ],
      "execution_count": null,
      "outputs": [
        {
          "output_type": "stream",
          "text": [
            "48\n",
            "                                             Group_1  ... index\n",
            "0  \"This group has to do with the speed of the tr...  ...     0\n",
            "1     \"contains items relating to speed of movement\"  ...     1\n",
            "2  \"All involve speed and velocity, most simple q...  ...     2\n",
            "3  \"This is about how you perceive your perceptio...  ...     3\n",
            "4  \"These instructions are based on the assumptio...  ...     4\n",
            "\n",
            "[5 rows x 5 columns]\n"
          ],
          "name": "stdout"
        }
      ]
    },
    {
      "cell_type": "markdown",
      "metadata": {
        "id": "v6XuGhTXrvtW"
      },
      "source": [
        "Tokenization: Split the text into sentences and the sentences into words. Lowercase the words and remove punctuation.\n",
        "\n",
        "Words that have fewer than 3 characters are removed.\n",
        "All stopwords are removed( the, he,have etc).\n",
        "\n",
        "Words are lemmatized — words in third person are changed to first person and verbs in past and future tenses are changed into present.(changing , changes, changed -> changed)\n",
        "\n",
        "Words are stemmed — words are reduced to their root form."
      ]
    },
    {
      "cell_type": "code",
      "metadata": {
        "id": "Vn6TT_pir3aG",
        "outputId": "d7639c42-7e71-479b-8001-23140fc92c43",
        "colab": {
          "base_uri": "https://localhost:8080/",
          "height": 67
        }
      },
      "source": [
        "import gensim\n",
        "from gensim.utils import simple_preprocess\n",
        "from gensim.parsing.preprocessing import STOPWORDS\n",
        "from nltk.stem import WordNetLemmatizer, SnowballStemmer\n",
        "from nltk.stem.porter import *\n",
        "import numpy as np\n",
        "np.random.seed(2018)\n",
        "import nltk\n",
        "nltk.download('wordnet')"
      ],
      "execution_count": null,
      "outputs": [
        {
          "output_type": "stream",
          "text": [
            "[nltk_data] Downloading package wordnet to /root/nltk_data...\n",
            "[nltk_data]   Unzipping corpora/wordnet.zip.\n"
          ],
          "name": "stdout"
        },
        {
          "output_type": "execute_result",
          "data": {
            "text/plain": [
              "True"
            ]
          },
          "metadata": {
            "tags": []
          },
          "execution_count": 9
        }
      ]
    },
    {
      "cell_type": "markdown",
      "metadata": {
        "id": "76FN6djwsQnI"
      },
      "source": [
        "Lemmitization and stem processing steps"
      ]
    },
    {
      "cell_type": "code",
      "metadata": {
        "id": "_h4t9X1hsVYv"
      },
      "source": [
        "def lemmatize_stemming(text):\n",
        "    return stemmer.stem(WordNetLemmatizer().lemmatize(text, pos='v'))\n",
        "def preprocess(text):\n",
        "    result = []\n",
        "    for token in gensim.utils.simple_preprocess(text):\n",
        "        if token not in gensim.parsing.preprocessing.STOPWORDS and len(token) > 3:\n",
        "            result.append(lemmatize_stemming(token))\n",
        "    return result"
      ],
      "execution_count": null,
      "outputs": []
    },
    {
      "cell_type": "markdown",
      "metadata": {
        "id": "5u6yTUrXsdsC"
      },
      "source": [
        "Selecting a document to preview after preprocessing.\n"
      ]
    },
    {
      "cell_type": "code",
      "metadata": {
        "id": "tOEf8Nc_sftO",
        "outputId": "fb1fdecb-43e2-4574-fb85-611df85372a5",
        "colab": {
          "base_uri": "https://localhost:8080/",
          "height": 118
        }
      },
      "source": [
        "stemmer = SnowballStemmer('english')\n",
        "doc_sample = documents[documents['index'] == 47].values[0][0]\n",
        "print('original document: ')\n",
        "words = []\n",
        "for word in doc_sample.split(' '):\n",
        "    words.append(word)\n",
        "print(words)\n",
        "print('\\n\\n tokenized and lemmatized document: ')\n",
        "print(preprocess(doc_sample))"
      ],
      "execution_count": null,
      "outputs": [
        {
          "output_type": "stream",
          "text": [
            "original document: \n",
            "['\"rating', 'the', 'train,', 'describing', 'the', 'train', 'only\"']\n",
            "\n",
            "\n",
            " tokenized and lemmatized document: \n",
            "['rat', 'train', 'describ', 'train']\n"
          ],
          "name": "stdout"
        }
      ]
    },
    {
      "cell_type": "code",
      "metadata": {
        "id": "7nizCnaVtp97",
        "outputId": "b5edabcd-d5e0-4bc1-8b95-f43107acedff",
        "colab": {
          "base_uri": "https://localhost:8080/",
          "height": 286
        }
      },
      "source": [
        "processed_docs_1 = documents['Group_1'].map(preprocess)\n",
        "processed_docs_1[:15]"
      ],
      "execution_count": null,
      "outputs": [
        {
          "output_type": "execute_result",
          "data": {
            "text/plain": [
              "0                                 [group, speed, train]\n",
              "1               [contain, item, relat, speed, movement]\n",
              "2               [involv, speed, veloc, simpl, question]\n",
              "3                          [perceiv, percept, movement]\n",
              "4     [instruct, base, assumpt, felt, realist, sens,...\n",
              "5       [rat, physic, properti, object, virtual, space]\n",
              "6                              [feel, percept, environ]\n",
              "7                                      [sentenc, speed]\n",
              "8     [group, base, actual, speed, self, sentenc, ve...\n",
              "9     [group, refer, sentenc, relat, actual, speed, ...\n",
              "10                                      [person, speed]\n",
              "11                                     [quantiti, fast]\n",
              "12                                               [move]\n",
              "13                                   [actual, movement]\n",
              "14    [sentenc, refer, concret, fact, speed, veloc, ...\n",
              "Name: Group_1, dtype: object"
            ]
          },
          "metadata": {
            "tags": []
          },
          "execution_count": 22
        }
      ]
    },
    {
      "cell_type": "code",
      "metadata": {
        "id": "gylHEZZauCA2",
        "outputId": "e15e831e-4fd2-4894-96f1-5e92bb529cbd",
        "colab": {
          "base_uri": "https://localhost:8080/",
          "height": 286
        }
      },
      "source": [
        "processed_docs_2 = documents['Group_2'].map(preprocess)\n",
        "processed_docs_2[:15]"
      ],
      "execution_count": null,
      "outputs": [
        {
          "output_type": "execute_result",
          "data": {
            "text/plain": [
              "0                                 [group, think, speed]\n",
              "1             [contain, item, relat, percept, movement]\n",
              "2                   [involv, sensat, video, make, feel]\n",
              "3                                   [train, fast, move]\n",
              "4     [instruct, ambival, unclear, intend, answer, s...\n",
              "5               [rat, physic, properti, virtual, space]\n",
              "6                        [subject, train, speed, train]\n",
              "7                            [senstenc, percept, speed]\n",
              "8     [sentenc, belong, categori, percept, sentenc, ...\n",
              "9         [group, refer, sentenc, relat, actual, speed]\n",
              "10                                     [person, motion]\n",
              "11    [specif, featur, grade, level, intens, sensat,...\n",
              "12                                        [feel, speed]\n",
              "13                                            [percept]\n",
              "14    [sentenc, refer, think, speed, percept, mean, ...\n",
              "Name: Group_2, dtype: object"
            ]
          },
          "metadata": {
            "tags": []
          },
          "execution_count": 23
        }
      ]
    },
    {
      "cell_type": "code",
      "metadata": {
        "id": "9KYmq-NouHzZ",
        "outputId": "3b26a2ca-027f-4a4a-acd9-443056fd64c5",
        "colab": {
          "base_uri": "https://localhost:8080/",
          "height": 286
        }
      },
      "source": [
        "processed_docs_3 = documents['Group_3'].map(preprocess)\n",
        "processed_docs_3[:15]"
      ],
      "execution_count": null,
      "outputs": [
        {
          "output_type": "execute_result",
          "data": {
            "text/plain": [
              "0                                [group, speed, actual]\n",
              "1                    [contain, item, relat, feel, move]\n",
              "2     [involv, percept, mind, analyz, factor, rate, ...\n",
              "3                                 [group, intens, feel]\n",
              "4         [item, rate, sensat, sensat, realist, intens]\n",
              "5                             [percept, virtual, space]\n",
              "6     [subject, speed, train, includ, feel, train, e...\n",
              "7                               [sentenc, speed, train]\n",
              "8     [group, sentenc, refer, sensat, percept, actua...\n",
              "9              [group, refer, perceiv, movement, train]\n",
              "10                                           [movement]\n",
              "11    [broader, question, rat, user, want, rate, qua...\n",
              "12                                        [train, move]\n",
              "13                                   [virtual, environ]\n",
              "14                                [refer, physic, feel]\n",
              "Name: Group_3, dtype: object"
            ]
          },
          "metadata": {
            "tags": []
          },
          "execution_count": 24
        }
      ]
    },
    {
      "cell_type": "markdown",
      "metadata": {
        "id": "z33_klI1u3_q"
      },
      "source": [
        "BAG OF WORDS ON THE DATASET"
      ]
    },
    {
      "cell_type": "code",
      "metadata": {
        "id": "4NK5BCx5vLrV",
        "outputId": "306e20b7-d992-46f0-d1cf-496cd91ded75",
        "colab": {
          "base_uri": "https://localhost:8080/",
          "height": 202
        }
      },
      "source": [
        "dictionary = gensim.corpora.Dictionary(processed_docs_1)\n",
        "count = 0\n",
        "for k, v in dictionary.iteritems():\n",
        "    print(k, v)\n",
        "    count += 1\n",
        "    if count > 10:\n",
        "        break"
      ],
      "execution_count": null,
      "outputs": [
        {
          "output_type": "stream",
          "text": [
            "0 group\n",
            "1 speed\n",
            "2 train\n",
            "3 contain\n",
            "4 item\n",
            "5 movement\n",
            "6 relat\n",
            "7 involv\n",
            "8 question\n",
            "9 simpl\n",
            "10 veloc\n"
          ],
          "name": "stdout"
        }
      ]
    },
    {
      "cell_type": "code",
      "metadata": {
        "id": "F-v5kKbjvjba"
      },
      "source": [
        "dictionary.filter_extremes(no_below=5, no_above=0.5, keep_n=10)\n"
      ],
      "execution_count": null,
      "outputs": []
    },
    {
      "cell_type": "code",
      "metadata": {
        "id": "rGZuTPLPvpL3",
        "outputId": "190d1d74-8af5-4459-b5bd-99657706480e",
        "colab": {
          "base_uri": "https://localhost:8080/",
          "height": 34
        }
      },
      "source": [
        "bow_corpus = [dictionary.doc2bow(doc) for doc in processed_docs_1]\n",
        "bow_corpus[47]"
      ],
      "execution_count": null,
      "outputs": [
        {
          "output_type": "execute_result",
          "data": {
            "text/plain": [
              "[(2, 2), (28, 1), (48, 1)]"
            ]
          },
          "metadata": {
            "tags": []
          },
          "execution_count": 38
        }
      ]
    },
    {
      "cell_type": "code",
      "metadata": {
        "id": "NMzdzzXbwAsR",
        "outputId": "b579d9da-2742-466b-ae90-419ac0591ae8",
        "colab": {
          "base_uri": "https://localhost:8080/",
          "height": 67
        }
      },
      "source": [
        "bow_doc_4310 = bow_corpus[47]\n",
        "for i in range(len(bow_doc_4310)):\n",
        "    print(\"Word {} (\\\"{}\\\") appears {} time.\".format(bow_doc_4310[i][0], \n",
        "                                               dictionary[bow_doc_4310[i][0]], \n",
        "bow_doc_4310[i][1]))"
      ],
      "execution_count": null,
      "outputs": [
        {
          "output_type": "stream",
          "text": [
            "Word 2 (\"train\") appears 2 time.\n",
            "Word 28 (\"rat\") appears 1 time.\n",
            "Word 48 (\"describ\") appears 1 time.\n"
          ],
          "name": "stdout"
        }
      ]
    },
    {
      "cell_type": "code",
      "metadata": {
        "id": "jiQnvSscwZdI",
        "outputId": "ae0f01e6-9d7c-4a18-c332-ec549d5afe77",
        "colab": {
          "base_uri": "https://localhost:8080/",
          "height": 34
        }
      },
      "source": [
        "from gensim import corpora, models\n",
        "tfidf = models.TfidfModel(bow_corpus)\n",
        "corpus_tfidf = tfidf[bow_corpus]\n",
        "from pprint import pprint\n",
        "for doc in corpus_tfidf:\n",
        "    pprint(doc)\n",
        "    break"
      ],
      "execution_count": null,
      "outputs": [
        {
          "output_type": "stream",
          "text": [
            "[(0, 0.8355506034903238), (1, 0.34236855992389903), (2, 0.4296963557939389)]\n"
          ],
          "name": "stdout"
        }
      ]
    },
    {
      "cell_type": "markdown",
      "metadata": {
        "id": "ca8Bu9B-wwyi"
      },
      "source": [
        "Train our lda model using gensim.models.LdaMulticore and save it to ‘lda_model’"
      ]
    },
    {
      "cell_type": "code",
      "metadata": {
        "id": "M1AjLjqBwgy4"
      },
      "source": [
        "lda_model = gensim.models.LdaMulticore(bow_corpus, num_topics=10, id2word=dictionary, passes=2, workers=2)"
      ],
      "execution_count": null,
      "outputs": []
    },
    {
      "cell_type": "markdown",
      "metadata": {
        "id": "teIUGGFzwx0P"
      },
      "source": [
        "For each topic, we will explore the words occuring in that topic and its relative weight.\n"
      ]
    },
    {
      "cell_type": "code",
      "metadata": {
        "id": "YdxFRtqPw3FJ",
        "outputId": "b6b3f378-c633-4b7a-f255-de1afe8bb719",
        "colab": {
          "base_uri": "https://localhost:8080/",
          "height": 373
        }
      },
      "source": [
        "for idx, topic in lda_model.print_topics(-1):\n",
        "    print('Topic: {} \\nWords: {}'.format(idx, topic))"
      ],
      "execution_count": null,
      "outputs": [
        {
          "output_type": "stream",
          "text": [
            "Topic: 0 \n",
            "Words: 0.119*\"movement\" + 0.119*\"percept\" + 0.109*\"perceiv\" + 0.089*\"speed\" + 0.047*\"measur\" + 0.047*\"train\" + 0.047*\"feel\" + 0.047*\"quantifi\" + 0.047*\"environ\" + 0.004*\"move\"\n",
            "Topic: 1 \n",
            "Words: 0.134*\"estim\" + 0.070*\"fast\" + 0.070*\"ask\" + 0.070*\"object\" + 0.070*\"go\" + 0.070*\"fact\" + 0.006*\"speed\" + 0.006*\"sentenc\" + 0.006*\"vehicl\" + 0.006*\"actual\"\n",
            "Topic: 2 \n",
            "Words: 0.047*\"move\" + 0.047*\"fast\" + 0.047*\"ask\" + 0.047*\"rat\" + 0.047*\"object\" + 0.047*\"view\" + 0.047*\"rate\" + 0.047*\"point\" + 0.047*\"video\" + 0.047*\"show\"\n",
            "Topic: 3 \n",
            "Words: 0.094*\"train\" + 0.072*\"fast\" + 0.064*\"go\" + 0.064*\"person\" + 0.064*\"speed\" + 0.050*\"sentenc\" + 0.043*\"subject\" + 0.043*\"rat\" + 0.029*\"movement\" + 0.029*\"percept\"\n",
            "Topic: 4 \n",
            "Words: 0.104*\"sentenc\" + 0.089*\"refer\" + 0.082*\"speed\" + 0.067*\"train\" + 0.067*\"movement\" + 0.067*\"imaginari\" + 0.046*\"relat\" + 0.046*\"contain\" + 0.024*\"veloc\" + 0.024*\"perceiv\"\n",
            "Topic: 5 \n",
            "Words: 0.065*\"speed\" + 0.065*\"sensat\" + 0.059*\"move\" + 0.044*\"rate\" + 0.044*\"think\" + 0.023*\"movement\" + 0.023*\"motion\" + 0.023*\"relat\" + 0.023*\"group\" + 0.023*\"intens\"\n",
            "Topic: 6 \n",
            "Words: 0.108*\"actual\" + 0.090*\"speed\" + 0.055*\"quantiti\" + 0.055*\"consid\" + 0.055*\"categori\" + 0.055*\"self\" + 0.055*\"vehicl\" + 0.055*\"sentenc\" + 0.037*\"group\" + 0.029*\"describ\"\n",
            "Topic: 7 \n",
            "Words: 0.116*\"train\" + 0.079*\"relat\" + 0.041*\"move\" + 0.041*\"sensat\" + 0.041*\"percept\" + 0.041*\"intens\" + 0.041*\"strength\" + 0.041*\"decis\" + 0.041*\"make\" + 0.041*\"physic\"\n",
            "Topic: 8 \n",
            "Words: 0.138*\"speed\" + 0.101*\"train\" + 0.060*\"motion\" + 0.060*\"object\" + 0.060*\"perceiv\" + 0.052*\"group\" + 0.032*\"travel\" + 0.032*\"question\" + 0.032*\"acknowledg\" + 0.032*\"rat\"\n",
            "Topic: 9 \n",
            "Words: 0.143*\"percept\" + 0.051*\"movement\" + 0.051*\"speed\" + 0.051*\"sensat\" + 0.051*\"question\" + 0.051*\"refer\" + 0.051*\"subject\" + 0.051*\"happen\" + 0.051*\"extern\" + 0.051*\"contextualis\"\n"
          ],
          "name": "stdout"
        }
      ]
    },
    {
      "cell_type": "markdown",
      "metadata": {
        "id": "Khie2u2ow-vC"
      },
      "source": [
        "Can you distinguish different topics using the words in each topic and their corresponding weights?"
      ]
    },
    {
      "cell_type": "markdown",
      "metadata": {
        "id": "-hqZiQhCxD5a"
      },
      "source": [
        "Running LDA using TF-IDF\n"
      ]
    },
    {
      "cell_type": "code",
      "metadata": {
        "id": "qfNLUYQaxC39",
        "outputId": "0f9334ef-c0f6-427a-d659-4548819d0e87",
        "colab": {
          "base_uri": "https://localhost:8080/",
          "height": 205
        }
      },
      "source": [
        "lda_model_tfidf = gensim.models.LdaMulticore(corpus_tfidf, num_topics=10, id2word=dictionary, passes=2, workers=4)\n",
        "for idx, topic in lda_model_tfidf.print_topics(-1):\n",
        "    print('Topic: {} Word: {}'.format(idx, topic))"
      ],
      "execution_count": null,
      "outputs": [
        {
          "output_type": "stream",
          "text": [
            "Topic: 0 Word: 0.063*\"sentenc\" + 0.040*\"speed\" + 0.040*\"occur\" + 0.040*\"habil\" + 0.040*\"assess\" + 0.028*\"movement\" + 0.028*\"rat\" + 0.026*\"world\" + 0.026*\"realist\" + 0.026*\"scenario\"\n",
            "Topic: 1 Word: 0.080*\"movement\" + 0.073*\"percept\" + 0.063*\"perceiv\" + 0.058*\"contain\" + 0.052*\"move\" + 0.042*\"refer\" + 0.039*\"acknowledg\" + 0.037*\"item\" + 0.037*\"sentenc\" + 0.035*\"self\"\n",
            "Topic: 2 Word: 0.107*\"relat\" + 0.072*\"train\" + 0.069*\"feel\" + 0.063*\"qualiti\" + 0.034*\"sensat\" + 0.030*\"subt\" + 0.030*\"differ\" + 0.025*\"think\" + 0.025*\"speed\" + 0.023*\"rate\"\n",
            "Topic: 3 Word: 0.046*\"concret\" + 0.039*\"fact\" + 0.039*\"veloc\" + 0.038*\"point\" + 0.038*\"view\" + 0.038*\"show\" + 0.038*\"video\" + 0.035*\"measur\" + 0.029*\"rate\" + 0.028*\"refer\"\n",
            "Topic: 4 Word: 0.072*\"imaginari\" + 0.068*\"quantifi\" + 0.062*\"group\" + 0.060*\"train\" + 0.049*\"instinct\" + 0.044*\"speed\" + 0.034*\"go\" + 0.032*\"move\" + 0.032*\"object\" + 0.030*\"refer\"\n",
            "Topic: 5 Word: 0.064*\"measur\" + 0.052*\"ask\" + 0.052*\"go\" + 0.047*\"estim\" + 0.047*\"speed\" + 0.043*\"train\" + 0.037*\"observ\" + 0.035*\"quasi\" + 0.035*\"travel\" + 0.035*\"object\"\n",
            "Topic: 6 Word: 0.083*\"perceiv\" + 0.063*\"sensat\" + 0.058*\"group\" + 0.054*\"relat\" + 0.053*\"quantiti\" + 0.048*\"motion\" + 0.039*\"question\" + 0.037*\"fast\" + 0.036*\"actual\" + 0.029*\"refer\"\n",
            "Topic: 7 Word: 0.045*\"contextualis\" + 0.045*\"generic\" + 0.038*\"includ\" + 0.038*\"word\" + 0.038*\"judgement\" + 0.037*\"space\" + 0.037*\"virtual\" + 0.037*\"properti\" + 0.034*\"question\" + 0.032*\"physic\"\n",
            "Topic: 8 Word: 0.059*\"actual\" + 0.052*\"intens\" + 0.043*\"person\" + 0.026*\"rat\" + 0.026*\"inform\" + 0.026*\"sensori\" + 0.025*\"sentenc\" + 0.025*\"speed\" + 0.025*\"movement\" + 0.025*\"sensat\"\n",
            "Topic: 9 Word: 0.134*\"train\" + 0.060*\"percept\" + 0.059*\"speed\" + 0.040*\"environ\" + 0.036*\"describ\" + 0.035*\"person\" + 0.032*\"motion\" + 0.030*\"involv\" + 0.030*\"simpl\" + 0.030*\"feel\"\n"
          ],
          "name": "stdout"
        }
      ]
    },
    {
      "cell_type": "markdown",
      "metadata": {
        "id": "BEB-GYROxPp-"
      },
      "source": [
        "Again, can you distinguish different topics using the words in each topic and their corresponding weights?\n",
        "Performance evaluation by classifying sample document using LDA Bag of Words model\n",
        "We will check where our test document would be classified."
      ]
    },
    {
      "cell_type": "code",
      "metadata": {
        "id": "eFiOb4o3xTCB",
        "outputId": "86fe0564-9ef2-4133-da49-4558d5bfb3e7",
        "colab": {
          "base_uri": "https://localhost:8080/",
          "height": 34
        }
      },
      "source": [
        "processed_docs_1[47]\n"
      ],
      "execution_count": null,
      "outputs": [
        {
          "output_type": "execute_result",
          "data": {
            "text/plain": [
              "['rat', 'train', 'describ', 'train']"
            ]
          },
          "metadata": {
            "tags": []
          },
          "execution_count": 46
        }
      ]
    },
    {
      "cell_type": "code",
      "metadata": {
        "id": "uucz49PLxggB",
        "outputId": "a5e111ce-4ec1-416e-954c-1447ce991391",
        "colab": {
          "base_uri": "https://localhost:8080/",
          "height": 541
        }
      },
      "source": [
        "for index, score in sorted(lda_model[bow_corpus[47]], key=lambda tup: -1*tup[1]):\n",
        "    print(\"\\nScore: {}\\t \\nTopic: {}\".format(score, lda_model.print_topic(index, 10)))"
      ],
      "execution_count": null,
      "outputs": [
        {
          "output_type": "stream",
          "text": [
            "\n",
            "Score: 0.8199844360351562\t \n",
            "Topic: 0.094*\"train\" + 0.072*\"fast\" + 0.064*\"go\" + 0.064*\"person\" + 0.064*\"speed\" + 0.050*\"sentenc\" + 0.043*\"subject\" + 0.043*\"rat\" + 0.029*\"movement\" + 0.029*\"percept\"\n",
            "\n",
            "Score: 0.020004387944936752\t \n",
            "Topic: 0.138*\"speed\" + 0.101*\"train\" + 0.060*\"motion\" + 0.060*\"object\" + 0.060*\"perceiv\" + 0.052*\"group\" + 0.032*\"travel\" + 0.032*\"question\" + 0.032*\"acknowledg\" + 0.032*\"rat\"\n",
            "\n",
            "Score: 0.02000388875603676\t \n",
            "Topic: 0.116*\"train\" + 0.079*\"relat\" + 0.041*\"move\" + 0.041*\"sensat\" + 0.041*\"percept\" + 0.041*\"intens\" + 0.041*\"strength\" + 0.041*\"decis\" + 0.041*\"make\" + 0.041*\"physic\"\n",
            "\n",
            "Score: 0.020002232864499092\t \n",
            "Topic: 0.104*\"sentenc\" + 0.089*\"refer\" + 0.082*\"speed\" + 0.067*\"train\" + 0.067*\"movement\" + 0.067*\"imaginari\" + 0.046*\"relat\" + 0.046*\"contain\" + 0.024*\"veloc\" + 0.024*\"perceiv\"\n",
            "\n",
            "Score: 0.02000219188630581\t \n",
            "Topic: 0.108*\"actual\" + 0.090*\"speed\" + 0.055*\"quantiti\" + 0.055*\"consid\" + 0.055*\"categori\" + 0.055*\"self\" + 0.055*\"vehicl\" + 0.055*\"sentenc\" + 0.037*\"group\" + 0.029*\"describ\"\n",
            "\n",
            "Score: 0.020001525059342384\t \n",
            "Topic: 0.047*\"move\" + 0.047*\"fast\" + 0.047*\"ask\" + 0.047*\"rat\" + 0.047*\"object\" + 0.047*\"view\" + 0.047*\"rate\" + 0.047*\"point\" + 0.047*\"video\" + 0.047*\"show\"\n",
            "\n",
            "Score: 0.020001104101538658\t \n",
            "Topic: 0.119*\"movement\" + 0.119*\"percept\" + 0.109*\"perceiv\" + 0.089*\"speed\" + 0.047*\"measur\" + 0.047*\"train\" + 0.047*\"feel\" + 0.047*\"quantifi\" + 0.047*\"environ\" + 0.004*\"move\"\n",
            "\n",
            "Score: 0.020000210031867027\t \n",
            "Topic: 0.065*\"speed\" + 0.065*\"sensat\" + 0.059*\"move\" + 0.044*\"rate\" + 0.044*\"think\" + 0.023*\"movement\" + 0.023*\"motion\" + 0.023*\"relat\" + 0.023*\"group\" + 0.023*\"intens\"\n",
            "\n",
            "Score: 0.019999999552965164\t \n",
            "Topic: 0.134*\"estim\" + 0.070*\"fast\" + 0.070*\"ask\" + 0.070*\"object\" + 0.070*\"go\" + 0.070*\"fact\" + 0.006*\"speed\" + 0.006*\"sentenc\" + 0.006*\"vehicl\" + 0.006*\"actual\"\n",
            "\n",
            "Score: 0.019999999552965164\t \n",
            "Topic: 0.143*\"percept\" + 0.051*\"movement\" + 0.051*\"speed\" + 0.051*\"sensat\" + 0.051*\"question\" + 0.051*\"refer\" + 0.051*\"subject\" + 0.051*\"happen\" + 0.051*\"extern\" + 0.051*\"contextualis\"\n"
          ],
          "name": "stdout"
        }
      ]
    },
    {
      "cell_type": "markdown",
      "metadata": {
        "id": "I7n6w80exf7k"
      },
      "source": [
        "Our test document has the highest probability to be part of the topic that our model assigned, which is the accurate classification."
      ]
    },
    {
      "cell_type": "markdown",
      "metadata": {
        "id": "U69PfBxrx0Ad"
      },
      "source": [
        "Performance evaluation by classifying sample document using LDA TF-IDF model."
      ]
    },
    {
      "cell_type": "code",
      "metadata": {
        "id": "9Ip0AkCFx2zO",
        "outputId": "e83ed4bd-bd68-473a-86b5-6e588ae8f77b",
        "colab": {
          "base_uri": "https://localhost:8080/",
          "height": 541
        }
      },
      "source": [
        "for index, score in sorted(lda_model_tfidf[bow_corpus[47]], key=lambda tup: -1*tup[1]):\n",
        "    print(\"\\nScore: {}\\t \\nTopic: {}\".format(score, lda_model_tfidf.print_topic(index, 10)))"
      ],
      "execution_count": null,
      "outputs": [
        {
          "output_type": "stream",
          "text": [
            "\n",
            "Score: 0.8199930191040039\t \n",
            "Topic: 0.134*\"train\" + 0.060*\"percept\" + 0.059*\"speed\" + 0.040*\"environ\" + 0.036*\"describ\" + 0.035*\"person\" + 0.032*\"motion\" + 0.030*\"involv\" + 0.030*\"simpl\" + 0.030*\"feel\"\n",
            "\n",
            "Score: 0.020002080127596855\t \n",
            "Topic: 0.059*\"actual\" + 0.052*\"intens\" + 0.043*\"person\" + 0.026*\"rat\" + 0.026*\"inform\" + 0.026*\"sensori\" + 0.025*\"sentenc\" + 0.025*\"speed\" + 0.025*\"movement\" + 0.025*\"sensat\"\n",
            "\n",
            "Score: 0.020001327618956566\t \n",
            "Topic: 0.107*\"relat\" + 0.072*\"train\" + 0.069*\"feel\" + 0.063*\"qualiti\" + 0.034*\"sensat\" + 0.030*\"subt\" + 0.030*\"differ\" + 0.025*\"think\" + 0.025*\"speed\" + 0.023*\"rate\"\n",
            "\n",
            "Score: 0.020000960677862167\t \n",
            "Topic: 0.063*\"sentenc\" + 0.040*\"speed\" + 0.040*\"occur\" + 0.040*\"habil\" + 0.040*\"assess\" + 0.028*\"movement\" + 0.028*\"rat\" + 0.026*\"world\" + 0.026*\"realist\" + 0.026*\"scenario\"\n",
            "\n",
            "Score: 0.020000938326120377\t \n",
            "Topic: 0.072*\"imaginari\" + 0.068*\"quantifi\" + 0.062*\"group\" + 0.060*\"train\" + 0.049*\"instinct\" + 0.044*\"speed\" + 0.034*\"go\" + 0.032*\"move\" + 0.032*\"object\" + 0.030*\"refer\"\n",
            "\n",
            "Score: 0.020000776275992393\t \n",
            "Topic: 0.045*\"contextualis\" + 0.045*\"generic\" + 0.038*\"includ\" + 0.038*\"word\" + 0.038*\"judgement\" + 0.037*\"space\" + 0.037*\"virtual\" + 0.037*\"properti\" + 0.034*\"question\" + 0.032*\"physic\"\n",
            "\n",
            "Score: 0.020000610500574112\t \n",
            "Topic: 0.064*\"measur\" + 0.052*\"ask\" + 0.052*\"go\" + 0.047*\"estim\" + 0.047*\"speed\" + 0.043*\"train\" + 0.037*\"observ\" + 0.035*\"quasi\" + 0.035*\"travel\" + 0.035*\"object\"\n",
            "\n",
            "Score: 0.020000215619802475\t \n",
            "Topic: 0.080*\"movement\" + 0.073*\"percept\" + 0.063*\"perceiv\" + 0.058*\"contain\" + 0.052*\"move\" + 0.042*\"refer\" + 0.039*\"acknowledg\" + 0.037*\"item\" + 0.037*\"sentenc\" + 0.035*\"self\"\n",
            "\n",
            "Score: 0.020000066608190536\t \n",
            "Topic: 0.083*\"perceiv\" + 0.063*\"sensat\" + 0.058*\"group\" + 0.054*\"relat\" + 0.053*\"quantiti\" + 0.048*\"motion\" + 0.039*\"question\" + 0.037*\"fast\" + 0.036*\"actual\" + 0.029*\"refer\"\n",
            "\n",
            "Score: 0.019999999552965164\t \n",
            "Topic: 0.046*\"concret\" + 0.039*\"fact\" + 0.039*\"veloc\" + 0.038*\"point\" + 0.038*\"view\" + 0.038*\"show\" + 0.038*\"video\" + 0.035*\"measur\" + 0.029*\"rate\" + 0.028*\"refer\"\n"
          ],
          "name": "stdout"
        }
      ]
    },
    {
      "cell_type": "markdown",
      "metadata": {
        "id": "DuZDiv9TyCCl"
      },
      "source": [
        "Our test document has the highest probability to be part of the topic that our model assigned, which is the accurate classification."
      ]
    },
    {
      "cell_type": "markdown",
      "metadata": {
        "id": "-m1jynn_gbMP"
      },
      "source": [
        "# INFORMATION EXTRACTION AND KNOWLEDGE GRAPH"
      ]
    },
    {
      "cell_type": "code",
      "metadata": {
        "id": "k8u62y0SnERK",
        "outputId": "f849b150-175f-4779-a17e-93e7ea07c4ac",
        "colab": {
          "base_uri": "https://localhost:8080/",
          "height": 1000
        }
      },
      "source": [
        "import spacy\n",
        "from spacy.lang.en import English\n",
        "import networkx as nx\n",
        "import matplotlib.pyplot as plt\n",
        "\n",
        "def getSentences(text):\n",
        "    nlp = English()\n",
        "    nlp.add_pipe(nlp.create_pipe('sentencizer'))\n",
        "    document = nlp(text)\n",
        "    return [sent.string.strip() for sent in document.sents]\n",
        "\n",
        "def printToken(token):\n",
        "    print(token.text, \"->\", token.dep_)\n",
        "\n",
        "def appendChunk(original, chunk):\n",
        "    return original + ' ' + chunk\n",
        "\n",
        "def isRelationCandidate(token):\n",
        "    deps = [\"ROOT\", \"adj\", \"attr\", \"agent\", \"amod\"]\n",
        "    return any(subs in token.dep_ for subs in deps)\n",
        "\n",
        "def isConstructionCandidate(token):\n",
        "    deps = [\"compound\", \"prep\", \"conj\", \"mod\"]\n",
        "    return any(subs in token.dep_ for subs in deps)\n",
        "def processSubjectObjectPairs(tokens):\n",
        "    subject = ''\n",
        "    object = ''\n",
        "    relation = ''\n",
        "    subjectConstruction = ''\n",
        "    objectConstruction = ''\n",
        "    for token in tokens:\n",
        "        printToken(token)\n",
        "        if \"punct\" in token.dep_:\n",
        "            continue\n",
        "        if isRelationCandidate(token):\n",
        "            relation = appendChunk(relation, token.lemma_)\n",
        "        if isConstructionCandidate(token):\n",
        "            if subjectConstruction:\n",
        "                subjectConstruction = appendChunk(subjectConstruction, token.text)\n",
        "            if objectConstruction:\n",
        "                objectConstruction = appendChunk(objectConstruction, token.text)\n",
        "        if \"subj\" in token.dep_:\n",
        "            subject = appendChunk(subject, token.text)\n",
        "            subject = appendChunk(subjectConstruction, subject)\n",
        "            subjectConstruction = ''\n",
        "        if \"obj\" in token.dep_:\n",
        "            object = appendChunk(object, token.text)\n",
        "            object = appendChunk(objectConstruction, object)\n",
        "            objectConstruction = ''\n",
        "\n",
        "    print (subject.strip(), \",\", relation.strip(), \",\", object.strip())\n",
        "    return (subject.strip(), relation.strip(), object.strip())\n",
        "\n",
        "def processSentence(sentence):\n",
        "    tokens = nlp_model(sentence)\n",
        "    return processSubjectObjectPairs(tokens)\n",
        "\n",
        "def printGraph(triples):\n",
        "    G = nx.Graph()\n",
        "    for triple in triples:\n",
        "        G.add_node(triple[0])\n",
        "        G.add_node(triple[1])\n",
        "        G.add_node(triple[2])\n",
        "        G.add_edge(triple[0], triple[1])\n",
        "        G.add_edge(triple[1], triple[2])\n",
        "\n",
        "    pos = nx.spring_layout(G)\n",
        "    plt.figure()\n",
        "    nx.draw(G, pos, edge_color='black', width=1, linewidths=1,\n",
        "            node_size=500, node_color='seagreen', alpha=0.9,\n",
        "            labels={node: node for node in G.nodes()})\n",
        "    plt.axis('off')\n",
        "    plt.show()\n",
        "\n",
        "\n",
        "\n",
        "\n",
        "if __name__ == \"__main__\":\n",
        "\n",
        "    text = \"This group has to do with the speed of the train.\" \\\n",
        "    \"contains items relating to speed of movement.\" \\\n",
        "    \"All involve speed and velocity, most simple questions.\" \\\n",
        "    \"This is about how you perceive your perception of movement.\" \\\n",
        "    \"These instructions are based on the assumption that you felt a realistic sense of motion and they are asking you to rate the speed of that movement the same way you would in a real world scenario.\" \\\n",
        "    \"It's about rating a physical property of an Object in a virtual space.\" \\\n",
        "    \"More about feeling/perception of the whole environment.\" \\\n",
        "    \"These sentences are all about my own speed.\" \\\n",
        "    \"I grouped them based on actual speed of the self (3 sentences) and the vehicle (3 sentences). I considered actual speed as the main category here, then considered two sub categories as the actual speed of the self and the vehicle.\" \\\n",
        "    \"The first group refers to all the sentences relative to the actual speed of the train.\" \\\n",
        "    \"All about personal speed.\" \\\n",
        "    \"The quantity of the fastness.\" \\\n",
        "    \"it is about you moving.\" \\\n",
        "    \"Actual movement.\" \\\n",
        "    \"These sentences would refer to concrete facts. The speed and velocity are measurable.\" \\\n",
        "    \"Perceived motion.\" \\\n",
        "    \"Personal perception of motion.\" \\\n",
        "    \"describes intensity, or quantity of sensory information.\" \\\n",
        "    \"Decision-making about physical strength (intensity) of sensation or perception.\" \\\n",
        "    \"its rating the objective intensity of the motion.\" \\\n",
        "    \"Perception of movement.\" \\\n",
        "    \"To do with the speed of the train.\" \\\n",
        "    \"quasi-objective measure of speed i am travelling.\" \\\n",
        "    \"It is related to the train.\" \\\n",
        "    \"they refer to perception/sensation of movement. It's the subjective perception of something happening external to me.\" \\\n",
        "    \"Here I am being asked to estimate how fast I am going, which is my estimation of some objective fact.\" \\\n",
        "    \"Contains sentences that refer to how a person perceives the movement of the train.\" \\\n",
        "    \"The speed of the train.\" \\\n",
        "    \"Measuring perceived speed and movement.\" \\\n",
        "    \"Here I am rating my hability to assess the movement that is occurring.\" \\\n",
        "    \"Related to my feelings of the train, rather than myself.\" \\\n",
        "    \"quality of the speed of the train.\" \\\n",
        "    \"All sentences refer to the perception of self-motion.\" \\\n",
        "    \"refers to the object moving (but I went with instinct).\" \\\n",
        "    \"Asking what speed the train is going.\" \\\n",
        "    \"They all included the word fast and seems to be based on personal judgement.\" \\\n",
        "    \"grouping together sensation related questions together.\" \\\n",
        "    \"sensation = perceived.\" \\\n",
        "    \"This group relates to sensation, which I think is subtly different from perception. For me these all ask me to rate how much it 'feels' as though I'm moving- the intensity of that sensation, rather than the speed itself.\" \\\n",
        "    \"Train only.\" \\\n",
        "    \"These sentences describe a command to subjectively evaluate how fast you are going. All sentences ask you how fast you are going, from your subjective perspective.\" \\\n",
        "    \"perceived speed of train  (acknowledges subjectivity)\" \\\n",
        "    \"The question is about speed either mine or a generic perception (not contextualised).\" \\\n",
        "    \"These sentences are about how fast the observer thinks the train is moving.\" \\\n",
        "    \"Quantifies the speed of the train.\" \\\n",
        "    \"Asked to rate how fast I was moving, at least from the point of view shown in the video.\" \\\n",
        "    \"Imaginary movement of the imaginary me and imaginary train which are the same.\" \\\n",
        "    \"rating the train, describing the train only.\"\n",
        "\n",
        "    sentences = getSentences(text)\n",
        "    nlp_model = spacy.load('en_core_web_sm')\n",
        "\n",
        "    triples = []\n",
        "    print (text)\n",
        "    for sentence in sentences:\n",
        "        triples.append(processSentence(sentence))\n",
        "\n",
        "    printGraph(triples)"
      ],
      "execution_count": null,
      "outputs": [
        {
          "output_type": "stream",
          "text": [
            "This group has to do with the speed of the train.contains items relating to speed of movement.All involve speed and velocity, most simple questions.This is about how you perceive your perception of movement.These instructions are based on the assumption that you felt a realistic sense of motion and they are asking you to rate the speed of that movement the same way you would in a real world scenario.It's about rating a physical property of an Object in a virtual space.More about feeling/perception of the whole environment.These sentences are all about my own speed.I grouped them based on actual speed of the self (3 sentences) and the vehicle (3 sentences). I considered actual speed as the main category here, then considered two sub categories as the actual speed of the self and the vehicle.The first group refers to all the sentences relative to the actual speed of the train.All about personal speed.The quantity of the fastness.it is about you moving.Actual movement.These sentences would refer to concrete facts. The speed and velocity are measurable.Perceived motion.Personal perception of motion.describes intensity, or quantity of sensory information.Decision-making about physical strength (intensity) of sensation or perception.its rating the objective intensity of the motion.Perception of movement.To do with the speed of the train.quasi-objective measure of speed i am travelling.It is related to the train.they refer to perception/sensation of movement. It's the subjective perception of something happening external to me.Here I am being asked to estimate how fast I am going, which is my estimation of some objective fact.Contains sentences that refer to how a person perceives the movement of the train.The speed of the train.Measuring perceived speed and movement.Here I am rating my hability to assess the movement that is occurring.Related to my feelings of the train, rather than myself.quality of the speed of the train.All sentences refer to the perception of self-motion.refers to the object moving (but I went with instinct).Asking what speed the train is going.They all included the word fast and seems to be based on personal judgement.grouping together sensation related questions together.sensation = perceived.This group relates to sensation, which I think is subtly different from perception. For me these all ask me to rate how much it 'feels' as though I'm moving- the intensity of that sensation, rather than the speed itself.Train only.These sentences describe a command to subjectively evaluate how fast you are going. All sentences ask you how fast you are going, from your subjective perspective.perceived speed of train  (acknowledges subjectivity)The question is about speed either mine or a generic perception (not contextualised).These sentences are about how fast the observer thinks the train is moving.Quantifies the speed of the train.Asked to rate how fast I was moving, at least from the point of view shown in the video.Imaginary movement of the imaginary me and imaginary train which are the same.rating the train, describing the train only.\n",
            "This -> det\n",
            "group -> nsubj\n",
            "has -> ROOT\n",
            "to -> aux\n",
            "do -> xcomp\n",
            "with -> prep\n",
            "the -> det\n",
            "speed -> pobj\n",
            "of -> prep\n",
            "the -> det\n",
            "train.contains -> nummod\n",
            "items -> pobj\n",
            "relating -> acl\n",
            "to -> prep\n",
            "speed -> pobj\n",
            "of -> prep\n",
            "movement -> pobj\n",
            ". -> punct\n",
            "group , have , speed items speed movement\n",
            "All -> nsubj\n",
            "involve -> ROOT\n",
            "speed -> dobj\n",
            "and -> cc\n",
            "velocity -> conj\n",
            ", -> punct\n",
            "most -> advmod\n",
            "simple -> amod\n",
            "questions -> appos\n",
            ". -> punct\n",
            "All , involve simple , speed\n",
            "This -> nsubj\n",
            "is -> ROOT\n",
            "about -> prep\n",
            "how -> advmod\n",
            "you -> nsubj\n",
            "perceive -> pcomp\n",
            "your -> poss\n",
            "perception -> dobj\n",
            "of -> prep\n",
            "movement -> pobj\n",
            ". -> punct\n",
            "This you , be , perception movement\n",
            "These -> det\n",
            "instructions -> nsubjpass\n",
            "are -> auxpass\n",
            "based -> ROOT\n",
            "on -> prep\n",
            "the -> det\n",
            "assumption -> pobj\n",
            "that -> mark\n",
            "you -> nsubj\n",
            "felt -> acl\n",
            "a -> det\n",
            "realistic -> amod\n",
            "sense -> dobj\n",
            "of -> prep\n",
            "motion -> pobj\n",
            "and -> cc\n",
            "they -> nsubj\n",
            "are -> aux\n",
            "asking -> conj\n",
            "you -> dobj\n",
            "to -> aux\n",
            "rate -> xcomp\n",
            "the -> det\n",
            "speed -> dobj\n",
            "of -> prep\n",
            "that -> det\n",
            "movement -> pobj\n",
            "the -> det\n",
            "same -> amod\n",
            "way -> npadvmod\n",
            "you -> nsubj\n",
            "would -> aux\n",
            "in -> prep\n",
            "a -> det\n",
            "real -> amod\n",
            "world -> compound\n",
            "scenario -> pobj\n",
            ". -> punct\n",
            "instructions you they you , base realistic same real , assumption sense motion you speed movement scenario\n",
            "It -> nsubj\n",
            "'s -> ROOT\n",
            "about -> prep\n",
            "rating -> pcomp\n",
            "a -> det\n",
            "physical -> amod\n",
            "property -> dobj\n",
            "of -> prep\n",
            "an -> det\n",
            "Object -> pobj\n",
            "in -> prep\n",
            "a -> det\n",
            "virtual -> amod\n",
            "space -> pobj\n",
            ". -> punct\n",
            "It , be physical virtual , property Object space\n",
            "More -> amod\n",
            "about -> prep\n",
            "feeling -> pcomp\n",
            "/ -> punct\n",
            "perception -> ROOT\n",
            "of -> prep\n",
            "the -> det\n",
            "whole -> amod\n",
            "environment -> pobj\n",
            ". -> punct\n",
            " , more perception whole , environment\n",
            "These -> det\n",
            "sentences -> nsubj\n",
            "are -> ROOT\n",
            "all -> advmod\n",
            "about -> prep\n",
            "my -> poss\n",
            "own -> amod\n",
            "speed -> pobj\n",
            ". -> punct\n",
            "sentences , be own , speed\n",
            "I -> nsubj\n",
            "grouped -> ROOT\n",
            "them -> dobj\n",
            "based -> xcomp\n",
            "on -> prep\n",
            "actual -> amod\n",
            "speed -> pobj\n",
            "of -> prep\n",
            "the -> det\n",
            "self -> pobj\n",
            "( -> punct\n",
            "3 -> nummod\n",
            "sentences -> appos\n",
            ") -> punct\n",
            "and -> cc\n",
            "the -> det\n",
            "vehicle -> conj\n",
            "( -> punct\n",
            "3 -> nummod\n",
            "sentences -> appos\n",
            ") -> punct\n",
            ". -> punct\n",
            "I , group actual , them speed self\n",
            "I -> nsubj\n",
            "considered -> ROOT\n",
            "actual -> amod\n",
            "speed -> dobj\n",
            "as -> prep\n",
            "the -> det\n",
            "main -> amod\n",
            "category -> pobj\n",
            "here -> advmod\n",
            ", -> punct\n",
            "then -> advmod\n",
            "considered -> dep\n",
            "two -> nummod\n",
            "sub -> compound\n",
            "categories -> dobj\n",
            "as -> prep\n",
            "the -> det\n",
            "actual -> amod\n",
            "speed -> pobj\n",
            "of -> prep\n",
            "the -> det\n",
            "self -> pobj\n",
            "and -> cc\n",
            "the -> det\n",
            "vehicle -> conj\n",
            ". -> punct\n",
            "I , consider actual main actual , speed category categories speed self\n",
            "The -> det\n",
            "first -> amod\n",
            "group -> nsubj\n",
            "refers -> ROOT\n",
            "to -> prep\n",
            "all -> predet\n",
            "the -> det\n",
            "sentences -> pobj\n",
            "relative -> amod\n",
            "to -> prep\n",
            "the -> det\n",
            "actual -> amod\n",
            "speed -> pobj\n",
            "of -> prep\n",
            "the -> det\n",
            "train -> pobj\n",
            ". -> punct\n",
            "group , first refer relative actual , sentences speed train\n",
            "All -> advmod\n",
            "about -> ROOT\n",
            "personal -> amod\n",
            "speed -> pobj\n",
            ". -> punct\n",
            " , about personal , speed\n",
            "The -> det\n",
            "quantity -> nsubj\n",
            "of -> prep\n",
            "the -> det\n",
            "fastness.it -> pobj\n",
            "is -> ROOT\n",
            "about -> prep\n",
            "you -> nsubj\n",
            "moving -> pcomp\n",
            ". -> punct\n",
            "quantity you , be , fastness.it\n",
            "Actual -> amod\n",
            "movement -> ROOT\n",
            ". -> punct\n",
            " , actual movement , \n",
            "These -> det\n",
            "sentences -> nsubj\n",
            "would -> aux\n",
            "refer -> ROOT\n",
            "to -> prep\n",
            "concrete -> amod\n",
            "facts -> pobj\n",
            ". -> punct\n",
            "sentences , refer concrete , facts\n",
            "The -> det\n",
            "speed -> nsubj\n",
            "and -> cc\n",
            "velocity -> conj\n",
            "are -> ROOT\n",
            "measurable -> acomp\n",
            ". -> punct\n",
            "speed , be , \n",
            "Perceived -> amod\n",
            "motion -> ROOT\n",
            ". -> punct\n",
            " , perceive motion , \n",
            "Personal -> amod\n",
            "perception -> ROOT\n",
            "of -> prep\n",
            "motion.describes -> compound\n",
            "intensity -> pobj\n",
            ", -> punct\n",
            "or -> cc\n",
            "quantity -> conj\n",
            "of -> prep\n",
            "sensory -> amod\n",
            "information -> pobj\n",
            ". -> punct\n",
            " , personal perception sensory , intensity information\n",
            "Decision -> compound\n",
            "- -> punct\n",
            "making -> nsubj\n",
            "about -> prep\n",
            "physical -> amod\n",
            "strength -> pobj\n",
            "( -> punct\n",
            "intensity -> appos\n",
            ") -> punct\n",
            "of -> prep\n",
            "sensation -> pobj\n",
            "or -> cc\n",
            "perception.its -> conj\n",
            "rating -> ROOT\n",
            "the -> det\n",
            "objective -> amod\n",
            "intensity -> dobj\n",
            "of -> prep\n",
            "the -> det\n",
            "motion -> pobj\n",
            ". -> punct\n",
            "making , physical rate objective , strength sensation intensity motion\n",
            "Perception -> ROOT\n",
            "of -> prep\n",
            "movement -> pobj\n",
            ". -> punct\n",
            " , perception , movement\n",
            "To -> aux\n",
            "do -> ROOT\n",
            "with -> prep\n",
            "the -> det\n",
            "speed -> pobj\n",
            "of -> prep\n",
            "the -> det\n",
            "train.quasi -> npadvmod\n",
            "- -> punct\n",
            "objective -> amod\n",
            "measure -> pobj\n",
            "of -> prep\n",
            "speed -> pobj\n",
            "i -> nsubj\n",
            "am -> aux\n",
            "travelling -> relcl\n",
            ". -> punct\n",
            "i , do objective , speed measure speed\n",
            "It -> nsubj\n",
            "is -> auxpass\n",
            "related -> ROOT\n",
            "to -> prep\n",
            "the -> det\n",
            "train.they -> pobj\n",
            "refer -> ROOT\n",
            "to -> prep\n",
            "perception -> nmod\n",
            "/ -> punct\n",
            "sensation -> pobj\n",
            "of -> prep\n",
            "movement -> pobj\n",
            ". -> punct\n",
            "It , relate refer , train.they sensation movement\n",
            "It -> nsubj\n",
            "'s -> ROOT\n",
            "the -> det\n",
            "subjective -> amod\n",
            "perception -> attr\n",
            "of -> prep\n",
            "something -> pobj\n",
            "happening -> acl\n",
            "external -> acomp\n",
            "to -> prep\n",
            "me -> pobj\n",
            ". -> punct\n",
            "It , be subjective perception , something me\n",
            "Here -> advmod\n",
            "I -> nsubjpass\n",
            "am -> aux\n",
            "being -> auxpass\n",
            "asked -> ROOT\n",
            "to -> aux\n",
            "estimate -> xcomp\n",
            "how -> advmod\n",
            "fast -> advmod\n",
            "I -> nsubj\n",
            "am -> aux\n",
            "going -> ccomp\n",
            ", -> punct\n",
            "which -> nsubj\n",
            "is -> ccomp\n",
            "my -> poss\n",
            "estimation -> attr\n",
            "of -> prep\n",
            "some -> det\n",
            "objective -> amod\n",
            "fact -> pobj\n",
            ". -> punct\n",
            "I I which , ask estimation objective , fact\n",
            "Contains -> ROOT\n",
            "sentences -> dobj\n",
            "that -> nsubj\n",
            "refer -> relcl\n",
            "to -> prep\n",
            "how -> advmod\n",
            "a -> det\n",
            "person -> nsubj\n",
            "perceives -> pcomp\n",
            "the -> det\n",
            "movement -> dobj\n",
            "of -> prep\n",
            "the -> det\n",
            "train -> pobj\n",
            ". -> punct\n",
            "that person , contain , sentences movement train\n",
            "The -> det\n",
            "speed -> ROOT\n",
            "of -> prep\n",
            "the -> det\n",
            "train -> pobj\n",
            ". -> punct\n",
            " , speed , train\n",
            "Measuring -> ROOT\n",
            "perceived -> amod\n",
            "speed -> dobj\n",
            "and -> cc\n",
            "movement -> conj\n",
            ". -> punct\n",
            " , measure perceive , speed\n",
            "Here -> advmod\n",
            "I -> nsubj\n",
            "am -> aux\n",
            "rating -> ROOT\n",
            "my -> poss\n",
            "hability -> dobj\n",
            "to -> aux\n",
            "assess -> advcl\n",
            "the -> det\n",
            "movement -> dobj\n",
            "that -> nsubj\n",
            "is -> aux\n",
            "occurring -> relcl\n",
            ". -> punct\n",
            "I that , rate , hability movement\n",
            "Related -> ROOT\n",
            "to -> prep\n",
            "my -> poss\n",
            "feelings -> pobj\n",
            "of -> prep\n",
            "the -> det\n",
            "train -> pobj\n",
            ", -> punct\n",
            "rather -> advmod\n",
            "than -> prep\n",
            "myself.quality -> pobj\n",
            "of -> prep\n",
            "the -> det\n",
            "speed -> pobj\n",
            "of -> prep\n",
            "the -> det\n",
            "train -> pobj\n",
            ". -> punct\n",
            " , relate , feelings train myself.quality speed train\n",
            "All -> det\n",
            "sentences -> nsubj\n",
            "refer -> ROOT\n",
            "to -> prep\n",
            "the -> det\n",
            "perception -> pobj\n",
            "of -> prep\n",
            "self-motion.refers -> pobj\n",
            "to -> prep\n",
            "the -> det\n",
            "object -> pobj\n",
            "moving -> acl\n",
            "( -> punct\n",
            "but -> cc\n",
            "I -> nsubj\n",
            "went -> conj\n",
            "with -> prep\n",
            "instinct).Asking -> pobj\n",
            "what -> det\n",
            "speed -> ccomp\n",
            "the -> det\n",
            "train -> nsubj\n",
            "is -> aux\n",
            "going -> ccomp\n",
            ". -> punct\n",
            "sentences I train , refer , perception self-motion.refers object instinct).Asking\n",
            "They -> nsubj\n",
            "all -> appos\n",
            "included -> ROOT\n",
            "the -> det\n",
            "word -> dobj\n",
            "fast -> advmod\n",
            "and -> cc\n",
            "seems -> conj\n",
            "to -> aux\n",
            "be -> auxpass\n",
            "based -> xcomp\n",
            "on -> prep\n",
            "personal -> amod\n",
            "judgement.grouping -> pobj\n",
            "together -> advmod\n",
            "sensation -> npadvmod\n",
            "related -> amod\n",
            "questions -> compound\n",
            "together.sensation -> npadvmod\n",
            "= -> punct\n",
            "perceived -> advcl\n",
            ". -> punct\n",
            "They , include personal related , word judgement.grouping\n",
            "This -> det\n",
            "group -> nsubj\n",
            "relates -> ROOT\n",
            "to -> prep\n",
            "sensation -> pobj\n",
            ", -> punct\n",
            "which -> nsubj\n",
            "I -> nsubj\n",
            "think -> relcl\n",
            "is -> ccomp\n",
            "subtly -> advmod\n",
            "different -> acomp\n",
            "from -> prep\n",
            "perception -> pobj\n",
            ". -> punct\n",
            "group which I , relate , sensation perception\n",
            "For -> prep\n",
            "me -> pobj\n",
            "these -> det\n",
            "all -> nsubj\n",
            "ask -> ROOT\n",
            "me -> dobj\n",
            "to -> aux\n",
            "rate -> xcomp\n",
            "how -> advmod\n",
            "much -> dobj\n",
            "it -> nsubj\n",
            "' -> punct\n",
            "feels -> ccomp\n",
            "' -> punct\n",
            "as -> mark\n",
            "though -> mark\n",
            "I -> nsubj\n",
            "'m -> advcl\n",
            "moving- -> acomp\n",
            "the -> det\n",
            "intensity -> ROOT\n",
            "of -> prep\n",
            "that -> det\n",
            "sensation -> pobj\n",
            ", -> punct\n",
            "rather -> advmod\n",
            "than -> prep\n",
            "the -> det\n",
            "speed -> pobj\n",
            "itself -> appos\n",
            ". -> punct\n",
            "all it I , ask intensity , me me much sensation speed\n",
            "Train -> ROOT\n",
            "only -> advmod\n",
            ". -> punct\n",
            " , train , \n",
            "These -> det\n",
            "sentences -> nsubj\n",
            "describe -> ROOT\n",
            "a -> det\n",
            "command -> dobj\n",
            "to -> aux\n",
            "subjectively -> advmod\n",
            "evaluate -> xcomp\n",
            "how -> advmod\n",
            "fast -> acomp\n",
            "you -> nsubj\n",
            "are -> aux\n",
            "going -> ccomp\n",
            ". -> punct\n",
            "sentences you , describe , command\n",
            "All -> det\n",
            "sentences -> nsubj\n",
            "ask -> ROOT\n",
            "you -> dobj\n",
            "how -> advmod\n",
            "fast -> advmod\n",
            "you -> nsubj\n",
            "are -> aux\n",
            "going -> ccomp\n",
            ", -> punct\n",
            "from -> prep\n",
            "your -> poss\n",
            "subjective -> amod\n",
            "perspective.perceived -> nummod\n",
            "speed -> pobj\n",
            "of -> prep\n",
            "train -> pobj\n",
            "  -> \n",
            "( -> punct\n",
            "acknowledges -> ROOT\n",
            "subjectivity)The -> compound\n",
            "question -> nsubj\n",
            "is -> ccomp\n",
            "about -> prep\n",
            "speed -> pobj\n",
            "either -> preconj\n",
            "mine -> attr\n",
            "or -> cc\n",
            "a -> det\n",
            "generic -> amod\n",
            "perception -> conj\n",
            "( -> punct\n",
            "not -> neg\n",
            "contextualised).These -> amod\n",
            "sentences -> nsubj\n",
            "are -> parataxis\n",
            "about -> prep\n",
            "how -> advmod\n",
            "fast -> acomp\n",
            "the -> det\n",
            "observer -> nsubj\n",
            "thinks -> pcomp\n",
            "the -> det\n",
            "train -> nsubj\n",
            "is -> aux\n",
            "moving -> ccomp\n",
            ". -> punct\n",
            "sentences you question sentences observer train , ask subjective acknowledge mine generic contextualised).these , you speed train speed\n",
            "Quantifies -> ROOT\n",
            "the -> det\n",
            "speed -> dobj\n",
            "of -> prep\n",
            "the -> det\n",
            "train -> pobj\n",
            ". -> punct\n",
            " , quantifie , speed train\n",
            "Asked -> ROOT\n",
            "to -> aux\n",
            "rate -> xcomp\n",
            "how -> advmod\n",
            "fast -> advmod\n",
            "I -> nsubj\n",
            "was -> aux\n",
            "moving -> ccomp\n",
            ", -> punct\n",
            "at -> advmod\n",
            "least -> advmod\n",
            "from -> prep\n",
            "the -> det\n",
            "point -> pobj\n",
            "of -> prep\n",
            "view -> pobj\n",
            "shown -> acl\n",
            "in -> prep\n",
            "the -> det\n",
            "video -> pobj\n",
            ". -> punct\n",
            "I , ask , point view video\n",
            "Imaginary -> amod\n",
            "movement -> ROOT\n",
            "of -> prep\n",
            "the -> det\n",
            "imaginary -> amod\n",
            "me -> intj\n",
            "and -> cc\n",
            "imaginary -> conj\n",
            "train -> pobj\n",
            "which -> nsubj\n",
            "are -> relcl\n",
            "the -> det\n",
            "same.rating -> attr\n",
            "the -> det\n",
            "train -> relcl\n",
            ", -> punct\n",
            "describing -> acl\n",
            "the -> det\n",
            "train -> dobj\n",
            "only -> advmod\n",
            ". -> punct\n",
            "which , imaginary movement imaginary same.rate , train train\n"
          ],
          "name": "stdout"
        },
        {
          "output_type": "display_data",
          "data": {
            "image/png": "[encoded data removed]",
            "text/plain": [
              "<Figure size 432x288 with 1 Axes>"
            ]
          },
          "metadata": {
            "tags": []
          }
        }
      ]
    }
  ]
}